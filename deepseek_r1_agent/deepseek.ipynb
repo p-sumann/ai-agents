{
 "cells": [
  {
   "cell_type": "code",
   "execution_count": 2,
   "metadata": {},
   "outputs": [],
   "source": [
    "import yfinance as yf\n",
    "from typing import Dict, Any\n",
    "from langchain_core.tools import tool\n",
    "from langchain_core.tools import render_text_description\n",
    "from langchain_core.prompts import ChatPromptTemplate\n",
    "from langchain_ollama import OllamaLLM\n"
   ]
  },
  {
   "cell_type": "markdown",
   "metadata": {},
   "source": [
    "#### Define Tool"
   ]
  },
  {
   "cell_type": "code",
   "execution_count": 3,
   "metadata": {},
   "outputs": [],
   "source": [
    "@tool\n",
    "def get_stock_price(symbol: str) -> float:\n",
    "    \"\"\"\n",
    "    Fetches the current stock price for a given ticker symbol.\n",
    "    This function attempts to retrieve the stock price using various attributes\n",
    "    from the Yahoo Finance API. It first checks for the price in the following\n",
    "    attributes in order: \"regularMarketPrice\", \"currentPrice\", and \"price\".\n",
    "    If none of these attributes contain a valid price, it then checks the\n",
    "    \"last_price\" attribute in the fast_info object.\n",
    "    Args:\n",
    "        symbol (str): The ticker symbol of the stock.\n",
    "    Returns:\n",
    "        float: The current stock price.\n",
    "    Raises:\n",
    "        Exception: If no valid price data is found.\n",
    "    \"\"\"\n",
    "\n",
    "    ticker = yf.Ticker(symbol)\n",
    "    price_attrs = [\"regularMarketPrice\", \"currentPrice\", \"price\"]\n",
    "\n",
    "    for attr in price_attrs:\n",
    "        if attr in ticker.info and ticker.info[attr] is not None:\n",
    "            return ticker.info[attr]\n",
    "\n",
    "    fast_info = ticker.fast_info\n",
    "    if hasattr(fast_info, \"last_price\") and fast_info.last_price is not None:\n",
    "        return fast_info.last_price\n",
    "\n",
    "    raise Exception(\"Could not find valid price data\")"
   ]
  },
  {
   "cell_type": "code",
   "execution_count": 4,
   "metadata": {},
   "outputs": [],
   "source": [
    "tools = [get_stock_price]"
   ]
  },
  {
   "cell_type": "code",
   "execution_count": 5,
   "metadata": {},
   "outputs": [
    {
     "name": "stdout",
     "output_type": "stream",
     "text": [
      "get_stock_price(symbol: str) -> float - Fetches the current stock price for a given ticker symbol.\n",
      "This function attempts to retrieve the stock price using various attributes\n",
      "from the Yahoo Finance API. It first checks for the price in the following\n",
      "attributes in order: \"regularMarketPrice\", \"currentPrice\", and \"price\".\n",
      "If none of these attributes contain a valid price, it then checks the\n",
      "\"last_price\" attribute in the fast_info object.\n",
      "Args:\n",
      "    symbol (str): The ticker symbol of the stock.\n",
      "Returns:\n",
      "    float: The current stock price.\n",
      "Raises:\n",
      "    Exception: If no valid price data is found.\n"
     ]
    }
   ],
   "source": [
    "rendered_tools = render_text_description(tools)\n",
    "print(rendered_tools)"
   ]
  },
  {
   "cell_type": "code",
   "execution_count": null,
   "metadata": {},
   "outputs": [],
   "source": []
  }
 ],
 "metadata": {
  "kernelspec": {
   "display_name": "documentai",
   "language": "python",
   "name": "python3"
  },
  "language_info": {
   "codemirror_mode": {
    "name": "ipython",
    "version": 3
   },
   "file_extension": ".py",
   "mimetype": "text/x-python",
   "name": "python",
   "nbconvert_exporter": "python",
   "pygments_lexer": "ipython3",
   "version": "3.12.3"
  }
 },
 "nbformat": 4,
 "nbformat_minor": 2
}
