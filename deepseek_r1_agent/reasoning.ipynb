{
 "cells": [
  {
   "cell_type": "code",
   "execution_count": 1,
   "metadata": {},
   "outputs": [],
   "source": [
    "from langchain_ollama import ChatOllama\n",
    "\n",
    "llm = \"qwen2.5:3b\""
   ]
  },
  {
   "cell_type": "code",
   "execution_count": 4,
   "metadata": {},
   "outputs": [],
   "source": [
    "llm_json_mode = ChatOllama(model=llm, format=\"json\")"
   ]
  },
  {
   "cell_type": "code",
   "execution_count": 5,
   "metadata": {},
   "outputs": [],
   "source": [
    "import operator\n",
    "from dataclasses import dataclass, field\n",
    "from typing_extensions import TypedDict, Annotated\n",
    "\n",
    "\n",
    "@dataclass(kw_only=True)\n",
    "class SummaryState:\n",
    "    research_topic: str = field(default=None)  # Report topic\n",
    "    search_query: str = field(default=None)  # Search query\n",
    "    web_research_results: Annotated[list, operator.add] = field(default_factory=list)\n",
    "    sources_gathered: Annotated[list, operator.add] = field(default_factory=list)\n",
    "    research_loop_count: int = field(default=0)  # Research loop count\n",
    "    running_summary: str = field(default=None)  # Final report\n",
    "\n",
    "\n",
    "@dataclass(kw_only=True)\n",
    "class SummaryStateInput(TypedDict):\n",
    "    research_topic: str = field(default=None)  # Report topic\n",
    "\n",
    "\n",
    "@dataclass(kw_only=True)\n",
    "class SummaryStateOutput(TypedDict):\n",
    "    running_summary: str = field(default=None)  # Final report\n"
   ]
  },
  {
   "cell_type": "code",
   "execution_count": null,
   "metadata": {},
   "outputs": [],
   "source": []
  }
 ],
 "metadata": {
  "kernelspec": {
   "display_name": "documentai",
   "language": "python",
   "name": "python3"
  },
  "language_info": {
   "codemirror_mode": {
    "name": "ipython",
    "version": 3
   },
   "file_extension": ".py",
   "mimetype": "text/x-python",
   "name": "python",
   "nbconvert_exporter": "python",
   "pygments_lexer": "ipython3",
   "version": "3.12.3"
  }
 },
 "nbformat": 4,
 "nbformat_minor": 2
}
