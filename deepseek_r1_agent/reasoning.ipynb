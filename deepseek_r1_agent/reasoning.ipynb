{
 "cells": [
  {
   "cell_type": "code",
   "execution_count": 1,
   "metadata": {},
   "outputs": [],
   "source": [
    "from langchain_ollama import ChatOllama\n",
    "\n",
    "llm = \"qwen2.5:3b\""
   ]
  },
  {
   "cell_type": "code",
   "execution_count": 4,
   "metadata": {},
   "outputs": [],
   "source": [
    "llm_json_mode = ChatOllama(model=llm, format=\"json\")"
   ]
  },
  {
   "cell_type": "code",
   "execution_count": 5,
   "metadata": {},
   "outputs": [],
   "source": [
    "import operator\n",
    "from dataclasses import dataclass, field\n",
    "from typing_extensions import TypedDict, Annotated\n",
    "\n",
    "\n",
    "@dataclass(kw_only=True)\n",
    "class SummaryState:\n",
    "    research_topic: str = field(default=None)  # Report topic\n",
    "    search_query: str = field(default=None)  # Search query\n",
    "    web_research_results: Annotated[list, operator.add] = field(default_factory=list)\n",
    "    sources_gathered: Annotated[list, operator.add] = field(default_factory=list)\n",
    "    research_loop_count: int = field(default=0)  # Research loop count\n",
    "    running_summary: str = field(default=None)  # Final report\n",
    "\n",
    "\n",
    "@dataclass(kw_only=True)\n",
    "class SummaryStateInput(TypedDict):\n",
    "    research_topic: str = field(default=None)  # Report topic\n",
    "\n",
    "\n",
    "@dataclass(kw_only=True)\n",
    "class SummaryStateOutput(TypedDict):\n",
    "    running_summary: str = field(default=None)  # Final report\n"
   ]
  },
  {
   "cell_type": "code",
   "execution_count": 6,
   "metadata": {},
   "outputs": [],
   "source": [
    "query_writer_instructions = \"\"\"Your goal is to generate targeted web search query.\n",
    "\n",
    "The query will gather information related to a specific topic.\n",
    "\n",
    "Topic:\n",
    "{research_topic}\n",
    "\n",
    "Return your query as a JSON object:\n",
    "{{\n",
    "    \"query\": \"string\",\n",
    "    \"aspect\": \"string\",\n",
    "    \"rationale\": \"string\"\n",
    "}}\n",
    "\"\"\""
   ]
  },
  {
   "cell_type": "code",
   "execution_count": 7,
   "metadata": {},
   "outputs": [],
   "source": [
    "import json\n",
    "from langchain_core.messages import HumanMessage, SystemMessage\n",
    "\n",
    "query_writer_instructions_formatted = query_writer_instructions.format(\n",
    "    research_topic=\"AI Agents\"\n",
    ")\n",
    "\n",
    "result = llm_json_mode.invoke(\n",
    "    [\n",
    "        SystemMessage(content=query_writer_instructions_formatted),\n",
    "        HumanMessage(content=\"Generate a query for standard web search:\"),\n",
    "    ]\n",
    ")\n"
   ]
  },
  {
   "cell_type": "code",
   "execution_count": 8,
   "metadata": {},
   "outputs": [],
   "source": [
    "query = json.loads(result.content)"
   ]
  },
  {
   "cell_type": "code",
   "execution_count": 9,
   "metadata": {},
   "outputs": [
    {
     "data": {
      "text/plain": [
       "{'query': 'introduction to AI agents in robotics',\n",
       " 'aspect': 'overview',\n",
       " 'rationale': 'This query aims to gather information on the basic introduction and overview of AI agents within the context of robotics, which is a common aspect for understanding this topic.'}"
      ]
     },
     "execution_count": 9,
     "metadata": {},
     "output_type": "execute_result"
    }
   ],
   "source": [
    "query"
   ]
  },
  {
   "cell_type": "code",
   "execution_count": null,
   "metadata": {},
   "outputs": [],
   "source": []
  }
 ],
 "metadata": {
  "kernelspec": {
   "display_name": "documentai",
   "language": "python",
   "name": "python3"
  },
  "language_info": {
   "codemirror_mode": {
    "name": "ipython",
    "version": 3
   },
   "file_extension": ".py",
   "mimetype": "text/x-python",
   "name": "python",
   "nbconvert_exporter": "python",
   "pygments_lexer": "ipython3",
   "version": "3.12.3"
  }
 },
 "nbformat": 4,
 "nbformat_minor": 2
}
