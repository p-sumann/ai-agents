{
 "cells": [
  {
   "cell_type": "code",
   "execution_count": 1,
   "metadata": {},
   "outputs": [],
   "source": [
    "from agents import Agent\n",
    "\n",
    "nep2eng = Agent(\n",
    "    name=\"Nepali Agent\",\n",
    "    handoff_description=\"Specialist agent for translating questions in Nepali\",\n",
    "    instructions=\"You provide assistance with translations. Tranlate the given input to Nepali.\",\n",
    ")\n",
    "\n",
    "eng2nep = Agent(\n",
    "    name=\"English Agent\",\n",
    "    handoff_description=\"Specialist agent for translating romanized nepali to English\",\n",
    "    instructions=\"You provide assistance with translations. Tranlate the given input to English.\",\n",
    ")"
   ]
  },
  {
   "cell_type": "code",
   "execution_count": 2,
   "metadata": {},
   "outputs": [],
   "source": [
    "my_agent = Agent(\n",
    "    name='Language Agent',\n",
    "    instructions=\"You determine which agent to use based on the user's input\",\n",
    "    handoffs=[nep2eng, eng2nep]\n",
    ")"
   ]
  },
  {
   "cell_type": "code",
   "execution_count": 6,
   "metadata": {},
   "outputs": [],
   "source": [
    "from agents import Runner\n",
    "\n",
    "async def main():\n",
    "    result = await Runner.run(my_agent, \"ma timi lai maya garchu\")\n",
    "    print(result.final_output)"
   ]
  },
  {
   "cell_type": "code",
   "execution_count": 7,
   "metadata": {},
   "outputs": [
    {
     "name": "stdout",
     "output_type": "stream",
     "text": [
      "I love you.\n"
     ]
    }
   ],
   "source": [
    "await main()"
   ]
  },
  {
   "cell_type": "code",
   "execution_count": null,
   "metadata": {},
   "outputs": [],
   "source": []
  }
 ],
 "metadata": {
  "kernelspec": {
   "display_name": ".venv",
   "language": "python",
   "name": "python3"
  },
  "language_info": {
   "codemirror_mode": {
    "name": "ipython",
    "version": 3
   },
   "file_extension": ".py",
   "mimetype": "text/x-python",
   "name": "python",
   "nbconvert_exporter": "python",
   "pygments_lexer": "ipython3",
   "version": "3.13.3"
  }
 },
 "nbformat": 4,
 "nbformat_minor": 2
}
