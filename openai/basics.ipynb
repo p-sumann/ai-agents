{
 "cells": [
  {
   "cell_type": "code",
   "execution_count": 1,
   "id": "39dc7064",
   "metadata": {},
   "outputs": [],
   "source": [
    "import os\n",
    "\n",
    "from openai import OpenAI"
   ]
  },
  {
   "cell_type": "code",
   "execution_count": 2,
   "id": "8a58ac8f",
   "metadata": {},
   "outputs": [],
   "source": [
    "client = OpenAI()"
   ]
  },
  {
   "cell_type": "markdown",
   "id": "0d288c99",
   "metadata": {},
   "source": [
    "### Basic"
   ]
  },
  {
   "cell_type": "code",
   "execution_count": null,
   "id": "03cf2ff1",
   "metadata": {},
   "outputs": [],
   "source": [
    "completion = client.chat.completions.create(\n",
    "    model=\"gpt-4o-mini\",\n",
    "    messages=[\n",
    "        {\"role\": \"system\", \"content\": \"You're a helpful assitant.\"},\n",
    "        {\"role\": \"user\", \"content\": \"what is a linter in vscode and how it is diff from formatter?\"\n",
    "        }\n",
    "    ]\n",
    ")"
   ]
  },
  {
   "cell_type": "code",
   "execution_count": null,
   "id": "b38143d9",
   "metadata": {},
   "outputs": [],
   "source": [
    "response = completion.choices[0].message.content\n",
    "print(response)"
   ]
  },
  {
   "cell_type": "markdown",
   "id": "74a65e60",
   "metadata": {},
   "source": [
    "### Structured Output"
   ]
  },
  {
   "cell_type": "code",
   "execution_count": null,
   "id": "923b9f64",
   "metadata": {},
   "outputs": [],
   "source": [
    "from pydantic import BaseModel\n",
    "\n",
    "class MyEvents(BaseModel):\n",
    "    name: str\n",
    "    date: str\n",
    "    participants: list[str]"
   ]
  },
  {
   "cell_type": "code",
   "execution_count": null,
   "id": "cc166c40",
   "metadata": {},
   "outputs": [],
   "source": [
    "completion = client.beta.chat.completions.parse(\n",
    "    model=\"gpt-4o-mini\",\n",
    "    messages=[\n",
    "        {\"role\": \"user\", \"content\": \"Extract the event information\"},\n",
    "        {\n",
    "            \"role\": \"user\", \"content\": \"Suman and Gita are going to a movie on Friday.\"\n",
    "        },\n",
    "    ],\n",
    "    response_format=MyEvents\n",
    ")"
   ]
  },
  {
   "cell_type": "code",
   "execution_count": null,
   "id": "6ead5d08",
   "metadata": {},
   "outputs": [],
   "source": [
    "event = completion.choices[0].message.parsed"
   ]
  },
  {
   "cell_type": "code",
   "execution_count": null,
   "id": "dd9500f0",
   "metadata": {},
   "outputs": [],
   "source": [
    "print(type(event))"
   ]
  },
  {
   "cell_type": "code",
   "execution_count": null,
   "id": "7cbdf6d9",
   "metadata": {},
   "outputs": [],
   "source": [
    "print(event)"
   ]
  },
  {
   "cell_type": "markdown",
   "id": "2b4100f0",
   "metadata": {},
   "source": [
    "### Function Calling"
   ]
  },
  {
   "cell_type": "code",
   "execution_count": 3,
   "id": "ef1c79f6",
   "metadata": {},
   "outputs": [
    {
     "data": {
      "text/plain": [
       "18.87"
      ]
     },
     "execution_count": 3,
     "metadata": {},
     "output_type": "execute_result"
    }
   ],
   "source": [
    "import requests\n",
    "from dotenv import load_dotenv\n",
    "\n",
    "_ = load_dotenv()\n",
    "\n",
    "WEATHER_API = os.getenv('WEATHER_API')\n",
    "\n",
    "\n",
    "def get_weather(city: str):\n",
    "    \"\"\"This is a public API to fetch the weather of given city.\"\"\"\n",
    "    \n",
    "    \n",
    "    url = f'http://api.openweathermap.org/data/2.5/weather?q={city}&appid={WEATHER_API}&units=metric'\n",
    "\n",
    "    response = requests.get(url)\n",
    "    return response.json()['main']['temp']\n",
    "\n",
    "get_weather('Kathmandu')"
   ]
  },
  {
   "cell_type": "code",
   "execution_count": 4,
   "id": "c081cc79",
   "metadata": {},
   "outputs": [],
   "source": [
    "tools = [{\n",
    "    \"type\": \"function\",\n",
    "    \"name\": \"get_weather\",\n",
    "    \"description\": \"Get current temperature for a given location.\",\n",
    "    \"parameters\": {\n",
    "        \"type\": \"object\",\n",
    "        \"properties\": {\n",
    "            \"location\": {\n",
    "                \"type\": \"string\",\n",
    "                \"description\": \"City and country e.g. Bogotá, Colombia\"\n",
    "            }\n",
    "        },\n",
    "        \"required\": [\n",
    "            \"location\"\n",
    "        ],\n",
    "        \"additionalProperties\": False\n",
    "    }\n",
    "}]"
   ]
  },
  {
   "cell_type": "code",
   "execution_count": null,
   "id": "8389fb48",
   "metadata": {},
   "outputs": [],
   "source": [
    "# weather_tool = [\n",
    "#     {\n",
    "#         \"type\": \"function\",\n",
    "#         \"function\": {\n",
    "#             \"name\": \"get_weather\",\n",
    "#             \"description\": \"Get a current temprature for proivded city\",\n",
    "#             \"parameters\": {\n",
    "#                 \"type\": \"object\",\n",
    "#                 \"properties\": {\n",
    "#                     \"city\": {\"type\": \"string\"}\n",
    "#                     },\n",
    "#                 \"required\": \"city\",\n",
    "#                 \"additionalProperties\": False,\n",
    "#             },\n",
    "#             \"strict\": True\n",
    "#         }\n",
    "#     }\n",
    "# ]"
   ]
  },
  {
   "cell_type": "code",
   "execution_count": 4,
   "id": "09083e4b",
   "metadata": {},
   "outputs": [],
   "source": [
    "tools = [\n",
    "    {\n",
    "        \"type\": \"function\",\n",
    "        \"function\": {\n",
    "            \"name\": \"get_weather\",\n",
    "            \"description\": \"Get current temperature for provided city.\",\n",
    "            \"parameters\": {\n",
    "                \"type\": \"object\",\n",
    "                \"properties\": {\n",
    "                    \"city\": {\"type\": \"string\"},\n",
    "                    \n",
    "                },\n",
    "                \"required\": [\"city\"],\n",
    "                \"additionalProperties\": False,\n",
    "            },\n",
    "            \"strict\": True,\n",
    "        },\n",
    "    }\n",
    "]\n",
    "\n",
    "system_prompt = \"You are a helpful weather assistant.\"\n",
    "\n",
    "messages = [\n",
    "    {\"role\": \"system\", \"content\": system_prompt},\n",
    "    {\"role\": \"user\", \"content\": \"What's the weather like in Paris today?\"},\n",
    "]\n",
    "\n",
    "completion = client.chat.completions.create(\n",
    "    model=\"gpt-4o-mini\",\n",
    "    messages=messages,\n",
    "    tools=tools,\n",
    ")"
   ]
  },
  {
   "cell_type": "code",
   "execution_count": 5,
   "id": "746cb310",
   "metadata": {},
   "outputs": [
    {
     "data": {
      "text/plain": [
       "{'id': 'chatcmpl-BYcZ9YKBKG0NedtqVbHSVBiK9MuMa',\n",
       " 'choices': [{'finish_reason': 'tool_calls',\n",
       "   'index': 0,\n",
       "   'logprobs': None,\n",
       "   'message': {'content': None,\n",
       "    'refusal': None,\n",
       "    'role': 'assistant',\n",
       "    'annotations': [],\n",
       "    'audio': None,\n",
       "    'function_call': None,\n",
       "    'tool_calls': [{'id': 'call_DUlhC11Wcp2HRqADRjNyIF2t',\n",
       "      'function': {'arguments': '{\"city\":\"Paris\"}', 'name': 'get_weather'},\n",
       "      'type': 'function'}]}}],\n",
       " 'created': 1747591099,\n",
       " 'model': 'gpt-4o-mini-2024-07-18',\n",
       " 'object': 'chat.completion',\n",
       " 'service_tier': 'default',\n",
       " 'system_fingerprint': 'fp_54eb4bd693',\n",
       " 'usage': {'completion_tokens': 14,\n",
       "  'prompt_tokens': 59,\n",
       "  'total_tokens': 73,\n",
       "  'completion_tokens_details': {'accepted_prediction_tokens': 0,\n",
       "   'audio_tokens': 0,\n",
       "   'reasoning_tokens': 0,\n",
       "   'rejected_prediction_tokens': 0},\n",
       "  'prompt_tokens_details': {'audio_tokens': 0, 'cached_tokens': 0}}}"
      ]
     },
     "execution_count": 5,
     "metadata": {},
     "output_type": "execute_result"
    }
   ],
   "source": [
    "completion.model_dump()"
   ]
  },
  {
   "cell_type": "code",
   "execution_count": 6,
   "id": "dcb11345",
   "metadata": {},
   "outputs": [],
   "source": [
    "def call_func(name, args):\n",
    "    print(name, args)\n",
    "    if name == 'get_weather':\n",
    "        return get_weather(**args)"
   ]
  },
  {
   "cell_type": "code",
   "execution_count": 7,
   "id": "c3714e28",
   "metadata": {},
   "outputs": [
    {
     "name": "stdout",
     "output_type": "stream",
     "text": [
      "get_weather {'city': 'Paris'}\n"
     ]
    }
   ],
   "source": [
    "import json\n",
    "\n",
    "for tool_call in completion.choices[0].message.tool_calls:\n",
    "    name = tool_call.function.name\n",
    "    args = json.loads(tool_call.function.arguments)\n",
    "    messages.append(completion.choices[0].message)\n",
    "\n",
    "    result = call_func(name, args)\n",
    "    messages.append(\n",
    "        {\"role\": \"tool\", \"tool_call_id\": tool_call.id, \"content\": json.dumps(result)}\n",
    "    )\n"
   ]
  },
  {
   "cell_type": "code",
   "execution_count": 8,
   "id": "63cec949",
   "metadata": {},
   "outputs": [
    {
     "data": {
      "text/plain": [
       "[{'role': 'system', 'content': 'You are a helpful weather assistant.'},\n",
       " {'role': 'user', 'content': \"What's the weather like in Paris today?\"},\n",
       " ChatCompletionMessage(content=None, refusal=None, role='assistant', annotations=[], audio=None, function_call=None, tool_calls=[ChatCompletionMessageToolCall(id='call_DUlhC11Wcp2HRqADRjNyIF2t', function=Function(arguments='{\"city\":\"Paris\"}', name='get_weather'), type='function')]),\n",
       " {'role': 'tool',\n",
       "  'tool_call_id': 'call_DUlhC11Wcp2HRqADRjNyIF2t',\n",
       "  'content': '19.81'}]"
      ]
     },
     "execution_count": 8,
     "metadata": {},
     "output_type": "execute_result"
    }
   ],
   "source": [
    "messages"
   ]
  },
  {
   "cell_type": "code",
   "execution_count": 34,
   "id": "2f47395f",
   "metadata": {},
   "outputs": [],
   "source": [
    "from pydantic import BaseModel\n",
    "\n",
    "\n",
    "class WeatherResponse(BaseModel):\n",
    "    temprature: float\n",
    "    llm_response: str\n"
   ]
  },
  {
   "cell_type": "code",
   "execution_count": 35,
   "id": "8695e86f",
   "metadata": {},
   "outputs": [],
   "source": [
    "com = client.beta.chat.completions.parse(\n",
    "    model='gpt-4o-mini',\n",
    "    messages=messages,\n",
    "    tools=tools,\n",
    "    response_format=WeatherResponse\n",
    ")"
   ]
  },
  {
   "cell_type": "code",
   "execution_count": 37,
   "id": "8b10d5fc",
   "metadata": {},
   "outputs": [
    {
     "data": {
      "text/plain": [
       "WeatherResponse(temprature=19.81, llm_response='The current temperature in Paris today is approximately 19.8°C.')"
      ]
     },
     "execution_count": 37,
     "metadata": {},
     "output_type": "execute_result"
    }
   ],
   "source": [
    "final_response = com.choices[0].message.parsed\n",
    "final_response"
   ]
  },
  {
   "cell_type": "code",
   "execution_count": 26,
   "id": "7f7c5738",
   "metadata": {},
   "outputs": [],
   "source": [
    "fin = com.choices[0].message.parsed"
   ]
  },
  {
   "cell_type": "code",
   "execution_count": 30,
   "id": "a69a1490",
   "metadata": {},
   "outputs": [
    {
     "data": {
      "text/plain": [
       "ParsedChatCompletion[WeatherResponse](id='chatcmpl-BYcekxV7ep0VK5HitV14csdRq0Opj', choices=[ParsedChoice[WeatherResponse](finish_reason='stop', index=0, logprobs=None, message=ParsedChatCompletionMessage[WeatherResponse](content='{\"city\":\"Paris\"}', refusal=None, role='assistant', annotations=[], audio=None, function_call=None, tool_calls=None, parsed=WeatherResponse(city='Paris')))], created=1747591446, model='gpt-4o-mini-2024-07-18', object='chat.completion', service_tier='default', system_fingerprint='fp_54eb4bd693', usage=CompletionUsage(completion_tokens=10, prompt_tokens=116, total_tokens=126, completion_tokens_details=CompletionTokensDetails(accepted_prediction_tokens=0, audio_tokens=0, reasoning_tokens=0, rejected_prediction_tokens=0), prompt_tokens_details=PromptTokensDetails(audio_tokens=0, cached_tokens=0)))"
      ]
     },
     "execution_count": 30,
     "metadata": {},
     "output_type": "execute_result"
    }
   ],
   "source": [
    "com"
   ]
  },
  {
   "cell_type": "code",
   "execution_count": 28,
   "id": "bdf7e0c5",
   "metadata": {},
   "outputs": [
    {
     "data": {
      "text/plain": [
       "'{\"city\":\"Paris\"}'"
      ]
     },
     "execution_count": 28,
     "metadata": {},
     "output_type": "execute_result"
    }
   ],
   "source": [
    "com.choices[0].message.content"
   ]
  },
  {
   "cell_type": "markdown",
   "id": "f992b949",
   "metadata": {},
   "source": [
    "### Prompt Chaining"
   ]
  },
  {
   "cell_type": "code",
   "execution_count": 1,
   "id": "8c082efb",
   "metadata": {},
   "outputs": [],
   "source": [
    "import os\n",
    "\n",
    "from openai import OpenAI\n",
    "client = OpenAI()"
   ]
  },
  {
   "cell_type": "code",
   "execution_count": 4,
   "id": "26be9b71",
   "metadata": {},
   "outputs": [],
   "source": [
    "from pydantic import BaseModel, Field\n",
    "from typing import Optional"
   ]
  },
  {
   "cell_type": "code",
   "execution_count": 5,
   "id": "98550667",
   "metadata": {},
   "outputs": [],
   "source": [
    "class EventExtraction(BaseModel):\n",
    "    \"\"\"first llm call: extract basic information\"\"\"\n",
    "\n",
    "    desc: str = Field(description=\"raw description of event\")\n",
    "    is_calendar_event: bool = Field(\"wether this is calendar event\")\n",
    "    confidence_score: float = Field(\"confidence score between 0 and 1\")\n",
    "\n",
    "\n",
    "class EventConfirmation(BaseModel):\n",
    "    \"\"\"Third LLM call: Generate confirmation message\"\"\"\n",
    "\n",
    "    confirmation_message: str = Field(\n",
    "        description=\"Natural language confirmation message\"\n",
    "    )\n",
    "    calendar_link: Optional[str] = Field(\n",
    "        description=\"Generated calendar link if applicable\"\n",
    "    )\n"
   ]
  },
  {
   "cell_type": "code",
   "execution_count": null,
   "id": "8d876204",
   "metadata": {},
   "outputs": [],
   "source": []
  }
 ],
 "metadata": {
  "kernelspec": {
   "display_name": ".venv",
   "language": "python",
   "name": "python3"
  },
  "language_info": {
   "codemirror_mode": {
    "name": "ipython",
    "version": 3
   },
   "file_extension": ".py",
   "mimetype": "text/x-python",
   "name": "python",
   "nbconvert_exporter": "python",
   "pygments_lexer": "ipython3",
   "version": "3.13.3"
  }
 },
 "nbformat": 4,
 "nbformat_minor": 5
}
