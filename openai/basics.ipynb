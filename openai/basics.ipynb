{
 "cells": [
  {
   "cell_type": "code",
   "execution_count": 3,
   "id": "39dc7064",
   "metadata": {},
   "outputs": [],
   "source": [
    "import os\n",
    "\n",
    "from openai import OpenAI"
   ]
  },
  {
   "cell_type": "code",
   "execution_count": 4,
   "id": "8a58ac8f",
   "metadata": {},
   "outputs": [],
   "source": [
    "client = OpenAI()"
   ]
  },
  {
   "cell_type": "code",
   "execution_count": 9,
   "id": "03cf2ff1",
   "metadata": {},
   "outputs": [],
   "source": [
    "completion = client.chat.completions.create(\n",
    "    model=\"gpt-4o-mini\",\n",
    "    messages=[\n",
    "        {\"role\": \"system\", \"content\": \"You're a helpful assitant.\"},\n",
    "        {\"role\": \"user\", \"content\": \"what is a linter in vscode and how it is diff from formatter?\"\n",
    "        }\n",
    "    ]\n",
    ")"
   ]
  },
  {
   "cell_type": "code",
   "execution_count": 11,
   "id": "b38143d9",
   "metadata": {},
   "outputs": [
    {
     "name": "stdout",
     "output_type": "stream",
     "text": [
      "A linter and a formatter are both tools used in the development process, often integrated into editors like Visual Studio Code (VSCode), but they serve different purposes.\n",
      "\n",
      "### Linter\n",
      "A **linter** is a tool that analyzes your code for potential errors, anti-patterns, and style inconsistencies. It examines your source code and provides feedback to developers about possible programming mistakes, bugs, or stylistic errors. Linters often enforce coding standards and best practices.\n",
      "\n",
      "- **Purpose**: Identify issues in the code such as syntax errors, type errors, and stylistic problems.\n",
      "- **Examples**: ESLint for JavaScript, pylint for Python, flake8 for Python, and RuboCop for Ruby.\n",
      "- **Output**: Warnings and errors; it often highlights issues like unused variables, undefined variables, and code complexity.\n",
      "\n",
      "### Formatter\n",
      "A **formatter**, on the other hand, is a tool that automatically formats your code according to specified style guidelines. It adjusts the layout of your code by applying consistent spacing, indentation, line breaks, and other stylistic choices.\n",
      "\n",
      "- **Purpose**: Maintain consistent code formatting in terms of whitespace, indentation, line length, and more.\n",
      "- **Examples**: Prettier for JavaScript, Black for Python, and clang-format for C/C++.\n",
      "- **Output**: Reformatted code that adheres to style guidelines without changing the underlying logic.\n",
      "\n",
      "### Key Differences\n",
      "1. **Function**:\n",
      "   - **Linter**: Highlights potential code issues, errors, and stylistic deviations. It analyzes the logic and structure.\n",
      "   - **Formatter**: Renders the code in a consistent style, focusing purely on formatting without syntax checking.\n",
      "\n",
      "2. **Feedback**:\n",
      "   - **Linter**: Provides feedback that can affect the logic of the code (e.g., potential bugs).\n",
      "   - **Formatter**: Adjusts the appearance of the code without altering its functionality.\n",
      "\n",
      "In practice, developers often use both linters and formatters together to ensure that their code is both error-free and consistently styled. Many tools can also be configured to work hand-in-hand in an integrated development environment like VSCode.\n"
     ]
    }
   ],
   "source": [
    "response = completion.choices[0].message.content\n",
    "print(response)"
   ]
  },
  {
   "cell_type": "code",
   "execution_count": 5,
   "id": "923b9f64",
   "metadata": {},
   "outputs": [],
   "source": [
    "from pydantic import BaseModel\n",
    "\n",
    "class MyEvents(BaseModel):\n",
    "    name: str\n",
    "    date: str\n",
    "    participants: list[str]"
   ]
  },
  {
   "cell_type": "code",
   "execution_count": 6,
   "id": "cc166c40",
   "metadata": {},
   "outputs": [],
   "source": [
    "completion = client.beta.chat.completions.parse(\n",
    "    model=\"gpt-4o-mini\",\n",
    "    messages=[\n",
    "        {\"role\": \"user\", \"content\": \"Extract the event information\"},\n",
    "        {\n",
    "            \"role\": \"user\", \"content\": \"Suman and Gita are going to a movie on Friday.\"\n",
    "        },\n",
    "    ],\n",
    "    response_format=MyEvents\n",
    ")"
   ]
  },
  {
   "cell_type": "code",
   "execution_count": 7,
   "id": "6ead5d08",
   "metadata": {},
   "outputs": [],
   "source": [
    "event = completion.choices[0].message.parsed"
   ]
  },
  {
   "cell_type": "code",
   "execution_count": 9,
   "id": "dd9500f0",
   "metadata": {},
   "outputs": [
    {
     "name": "stdout",
     "output_type": "stream",
     "text": [
      "<class '__main__.MyEvents'>\n"
     ]
    }
   ],
   "source": [
    "print(type(event))"
   ]
  },
  {
   "cell_type": "code",
   "execution_count": 10,
   "id": "7cbdf6d9",
   "metadata": {},
   "outputs": [
    {
     "name": "stdout",
     "output_type": "stream",
     "text": [
      "name='Movie Night' date='Friday' participants=['Suman', 'Gita']\n"
     ]
    }
   ],
   "source": [
    "print(event)"
   ]
  },
  {
   "cell_type": "code",
   "execution_count": null,
   "id": "2b4100f0",
   "metadata": {},
   "outputs": [],
   "source": []
  }
 ],
 "metadata": {
  "kernelspec": {
   "display_name": "openai",
   "language": "python",
   "name": "python3"
  },
  "language_info": {
   "codemirror_mode": {
    "name": "ipython",
    "version": 3
   },
   "file_extension": ".py",
   "mimetype": "text/x-python",
   "name": "python",
   "nbconvert_exporter": "python",
   "pygments_lexer": "ipython3",
   "version": "3.13.3"
  }
 },
 "nbformat": 4,
 "nbformat_minor": 5
}
